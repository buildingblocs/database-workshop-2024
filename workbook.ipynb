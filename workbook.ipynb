{
 "cells": [
  {
   "cell_type": "markdown",
   "metadata": {},
   "source": [
    "# Workbook\n",
    "\n",
    "You will be working through 9 tasks throughout the workbook to help you practice the skills you have learned with Python and SQL with Santa's workshop data. Santa's counting on you to help him get his data in order!\n",
    "\n",
    "First, you will need to import the necessary libraries and connect to the database. The database has already been created for you and is called `santas_workshop`."
   ]
  },
  {
   "cell_type": "code",
   "execution_count": 1,
   "metadata": {},
   "outputs": [],
   "source": [
    "from sqlite3 import *"
   ]
  },
  {
   "cell_type": "markdown",
   "metadata": {},
   "source": [
    "# Task 1\n",
    "\n",
    "Let's start by connecting to the database. Develop a function that connects to the database `santas_workshop` and returns a connection object.\n"
   ]
  },
  {
   "cell_type": "code",
   "execution_count": null,
   "metadata": {},
   "outputs": [],
   "source": [
    "def connect_db(db_name):\n",
    "    # TODO: connect to the database and return the connection\n",
    "    return None"
   ]
  },
  {
   "cell_type": "markdown",
   "metadata": {},
   "source": [
    "Test your function by calling it below!"
   ]
  },
  {
   "cell_type": "code",
   "execution_count": null,
   "metadata": {},
   "outputs": [],
   "source": [
    "try:\n",
    "    db_conn = connect_db(\"santas_workshop.db\")\n",
    "    if db_conn:\n",
    "        db_conn.close()\n",
    "        print(\"Database closed!\")\n",
    "    else:\n",
    "        print(\"Database connection failed!\")\n",
    "except Error as e:\n",
    "    print(\"Error:\", e)"
   ]
  },
  {
   "cell_type": "markdown",
   "metadata": {},
   "source": [
    "# Task 2\n",
    "\n",
    "Now that you have connected to the database, you can start to explore the data. Write a function that creates the tables `toys` and `recipients` in the database `santas_workshop`. The `toys` table should have the following columns:\n",
    "\n",
    "- `toy_id` (TEXT) - a unique identifier for the toy\n",
    "- `toy_type` (TEXT) - the type of toy\n",
    "- `toy_name` (TEXT) - the name of the toy\n",
    "\n",
    "The `toy_id` column should be the primary key for the table.\n",
    "\n",
    "The `recipients` table should have the following columns:\n",
    "\n",
    "- `recipient_id` (INTEGER) - a unique identifier for the recipient\n",
    "- `recipient_toy_id` (INTEGER) - the id of the toy the recipient wants\n",
    "- `recipient_name` (TEXT) - the name of the recipient\n",
    "\n",
    "The `recipient_id` column should be the primary key for the table."
   ]
  },
  {
   "cell_type": "code",
   "execution_count": null,
   "metadata": {},
   "outputs": [],
   "source": [
    "def create_tables(db_conn):\n",
    "    # TODO: create the tables in the database\n",
    "    return None"
   ]
  },
  {
   "cell_type": "code",
   "execution_count": null,
   "metadata": {},
   "outputs": [],
   "source": [
    "try:\n",
    "    db_conn = connect_db(\"santas_workshop.db\")\n",
    "    if db_conn:\n",
    "        create_tables(db_conn)\n",
    "        db_conn.close()\n",
    "        print(\"Database closed!\")\n",
    "    else:\n",
    "        print(\"Database connection failed!\")\n",
    "except Error as e:\n",
    "    print(\"Error:\", e)"
   ]
  },
  {
   "cell_type": "markdown",
   "metadata": {},
   "source": [
    "# Tasks 3-4\n",
    "\n",
    "Now that you have created the tables, you can start to populate them with data.\n",
    "\n",
    "There are two CSV files that contain the data you need to populate the tables. The first file is called `toys.csv` and contains the following columns:\n",
    "\n",
    "- `toy_id` - a unique identifier for the toy\n",
    "- `toy_type` - the type of toy\n",
    "- `toy_name` - the name of the toy\n",
    "\n",
    "The second file is called `recipients.csv` and contains the following columns:\n",
    "\n",
    "- `recipient_id` - a unique identifier for the recipient\n",
    "- `recipient_toy_id` - the id of the toy the recipient wants\n",
    "- `recipient_name` - the name of the recipient\n",
    "\n",
    "Write a function that imports the data from the CSV files into the tables.\n"
   ]
  },
  {
   "cell_type": "markdown",
   "metadata": {},
   "source": [
    "## Task 3"
   ]
  },
  {
   "cell_type": "code",
   "execution_count": null,
   "metadata": {},
   "outputs": [],
   "source": [
    "def import_toys(db_conn, csv_file):\n",
    "    # TODO: import the toys from the CSV file\n",
    "    return None"
   ]
  },
  {
   "cell_type": "code",
   "execution_count": null,
   "metadata": {},
   "outputs": [],
   "source": [
    "try:\n",
    "    db_conn = connect_db(\"santas_workshop.db\")\n",
    "    if db_conn:\n",
    "        import_toys(db_conn, \"data/new_toys.csv\")\n",
    "        db_conn.close()\n",
    "        print(\"Database closed!\")\n",
    "    else:\n",
    "        print(\"Database connection failed!\")\n",
    "except Error as e:\n",
    "    print(\"Error:\", e)"
   ]
  },
  {
   "cell_type": "markdown",
   "metadata": {},
   "source": [
    "## Task 4"
   ]
  },
  {
   "cell_type": "code",
   "execution_count": null,
   "metadata": {},
   "outputs": [],
   "source": [
    "def import_recipients(db_conn, csv_file):\n",
    "    # TODO: import the recipients from the CSV file\n",
    "    return None"
   ]
  },
  {
   "cell_type": "code",
   "execution_count": null,
   "metadata": {},
   "outputs": [],
   "source": [
    "try:\n",
    "    db_conn = connect_db(\"santas_workshop.db\")\n",
    "    if db_conn:\n",
    "        import_recipients(db_conn, \"data/new_recipients.csv\")\n",
    "        db_conn.close()\n",
    "        print(\"Database closed!\")\n",
    "    else:\n",
    "        print(\"Database connection failed!\")\n",
    "except Error as e:\n",
    "    print(\"Error:\", e)"
   ]
  },
  {
   "cell_type": "markdown",
   "metadata": {},
   "source": [
    "# Task 5\n",
    "\n",
    "Now that you have imported the data, you can start to analyze it. Write a function that returns a list of all the toys that are considered contaminants. A toy is considered a contaminant if its type is gun, bomb, or organ (don't ask why Santa has these toys in his workshop, it's a long story).\n",
    "\n",
    "The function should return a list of tuples, where each tuple contains the `toy_id` and `toy_name` of a contaminant toy.\n"
   ]
  },
  {
   "cell_type": "code",
   "execution_count": null,
   "metadata": {},
   "outputs": [],
   "source": [
    "def filter_contaminants(db_conn):\n",
    "    # TODO: Filter out the contaminants from the toys\n",
    "    return None"
   ]
  },
  {
   "cell_type": "code",
   "execution_count": null,
   "metadata": {},
   "outputs": [],
   "source": [
    "try:\n",
    "    db_conn = connect_db(\"santas_workshop.db\")\n",
    "    if db_conn:\n",
    "        print(filter_contaminants(db_conn))\n",
    "        db_conn.close()\n",
    "        print(\"Database closed\")\n",
    "    else:\n",
    "        print(\"Database connection failed!\")\n",
    "except Error as e:\n",
    "    print(\"Error:\", e)"
   ]
  },
  {
   "cell_type": "markdown",
   "metadata": {},
   "source": [
    "# Task 6\n",
    "\n",
    "Let's write a function that returns a list of the names of all the recipients who have asked for a contaminant toy.\n",
    "\n",
    "Hint: You should use the `toy_id` values from the previous task to identify the contaminant toys!\n"
   ]
  },
  {
   "cell_type": "code",
   "execution_count": null,
   "metadata": {},
   "outputs": [],
   "source": [
    "def filter_nonsense(db_conn):\n",
    "    # TODO: Filter out the recipients requesting contaminated toys\n",
    "    return None"
   ]
  },
  {
   "cell_type": "code",
   "execution_count": null,
   "metadata": {},
   "outputs": [],
   "source": [
    "try:\n",
    "    db_conn = connect_db(\"santas_workshop.db\")\n",
    "    if db_conn:\n",
    "        print(filter_nonsense(db_conn))\n",
    "        db_conn.close()\n",
    "        print(\"Database closed\")\n",
    "    else:\n",
    "        print(\"Database connection failed!\")\n",
    "except Error as e:\n",
    "    print(\"Error:\", e)"
   ]
  },
  {
   "cell_type": "markdown",
   "metadata": {},
   "source": [
    "# Task 7-9\n",
    "\n",
    "We're in the final stretch! You have three more tasks to complete before you're done.\n",
    "\n",
    "Santa has decided to remove some of the recipients from the database because they have been naughty this year. Write a function that deletes the recipients who requested contaminant toys.\n",
    "\n",
    "Then, Santa wants to remove the contaminant toys from the database. Write a function that deletes the contaminant toys from the database.\n",
    "\n",
    "Finally, Santa wants to see a list of all the toys that each recipient has requested. Write a function that joins the `toys` and `recipients` tables and returns a list of tuples, where each tuple contains the `toy_type`, `toy_name`, `recipient_id`, and `recipient_name` of a toy that a recipient has requested.\n"
   ]
  },
  {
   "cell_type": "code",
   "execution_count": null,
   "metadata": {},
   "outputs": [],
   "source": [
    "def delete_person(db_conn):\n",
    "    # TODO: Delete recipients requesting contaminated items\n",
    "    return None"
   ]
  },
  {
   "cell_type": "code",
   "execution_count": null,
   "metadata": {},
   "outputs": [],
   "source": [
    "def delete_threat(db_conn):\n",
    "    # TODO: Delete dangerous toys from the toys table\n",
    "    return None"
   ]
  },
  {
   "cell_type": "code",
   "execution_count": null,
   "metadata": {},
   "outputs": [],
   "source": [
    "def join_tables(db_conn):\n",
    "    # TODO: Join toys and recipients tables\n",
    "    return None"
   ]
  },
  {
   "cell_type": "code",
   "execution_count": null,
   "metadata": {},
   "outputs": [],
   "source": [
    "try:\n",
    "    db_conn = connect_db(\"santas_workshop.db\")\n",
    "    if db_conn:\n",
    "        print(delete_person(db_conn))\n",
    "        print(delete_threat(db_conn))\n",
    "        print(join_tables(db_conn))\n",
    "        db_conn.close()\n",
    "        print(\"Database closed\")\n",
    "    else:\n",
    "        print(\"Database connection failed!\")\n",
    "except Error as e:\n",
    "    print(\"Error:\", e)"
   ]
  },
  {
   "cell_type": "markdown",
   "metadata": {},
   "source": [
    "# Congratulations!\n",
    "\n",
    "You have successfully completed the workbook! Santa is very grateful for all your hard work. He couldn't have done it without you. Happy holidays!\n"
   ]
  }
 ],
 "metadata": {
  "kernelspec": {
   "display_name": ".venv",
   "language": "python",
   "name": "python3"
  },
  "language_info": {
   "codemirror_mode": {
    "name": "ipython",
    "version": 3
   },
   "file_extension": ".py",
   "mimetype": "text/x-python",
   "name": "python",
   "nbconvert_exporter": "python",
   "pygments_lexer": "ipython3",
   "version": "3.10.9"
  }
 },
 "nbformat": 4,
 "nbformat_minor": 2
}
