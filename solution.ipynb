{
 "cells": [
  {
   "cell_type": "code",
   "execution_count": 1,
   "metadata": {},
   "outputs": [],
   "source": [
    "import sqlite3\n",
    "from sqlite3 import Error\n",
    "import csv"
   ]
  },
  {
   "cell_type": "markdown",
   "metadata": {},
   "source": [
    "# Task 1"
   ]
  },
  {
   "cell_type": "code",
   "execution_count": null,
   "metadata": {},
   "outputs": [],
   "source": [
    "def connect_db(db_file):\n",
    "    \"\"\"\n",
    "    Establish a connection to the SQLite database.\n",
    "\n",
    "    Args:\n",
    "        db_file (str): The database file name.\n",
    "\n",
    "    Returns:\n",
    "        Connection object or None: Connection to the database.\n",
    "    \"\"\"\n",
    "    try:\n",
    "        conn = sqlite3.connect(db_file)\n",
    "        print(\"Database connected.\")\n",
    "        return conn\n",
    "    except Error as e:\n",
    "        print(f\"Error: {e}\")\n",
    "        return None"
   ]
  },
  {
   "cell_type": "code",
   "execution_count": null,
   "metadata": {},
   "outputs": [],
   "source": [
    "db_conn = connect_db(\"santas_workshop.db\")\n",
    "db_conn.close()\n",
    "print(\"Database closed\")"
   ]
  },
  {
   "cell_type": "markdown",
   "metadata": {},
   "source": [
    "# Task 2"
   ]
  },
  {
   "cell_type": "code",
   "execution_count": null,
   "metadata": {},
   "outputs": [],
   "source": [
    "def create_tables(conn):\n",
    "    \"\"\"\n",
    "    Create 'toys' and 'recipients' tables in the database.\n",
    "\n",
    "    Args:\n",
    "        conn (Connection): The database connection object.\n",
    "    \"\"\"\n",
    "    toys_sql = \"\"\"CREATE TABLE IF NOT EXISTS `toys` (\n",
    "        `toy_id` TEXT NOT NULL UNIQUE,\n",
    "        `toy_type` TEXT NOT NULL,\n",
    "        `toy_name` TEXT NOT NULL,\n",
    "        PRIMARY KEY(`toy_id`)\n",
    "    );\"\"\"\n",
    "\n",
    "    recipients_sql = \"\"\"CREATE TABLE IF NOT EXISTS `recipients` (\n",
    "        `recipient_id` INTEGER NOT NULL UNIQUE,\n",
    "        `recipient_toy_id` INTEGER NOT NULL UNIQUE,\n",
    "        `recipient_name` TEXT NOT NULL,\n",
    "        PRIMARY KEY(`recipient_id`),\n",
    "        FOREIGN KEY(`recipient_toy_id`) REFERENCES `toys`(`toy_id`)\n",
    "    );\"\"\"\n",
    "\n",
    "    tables = [(\"toys\", toys_sql), (\"recipients\", recipients_sql)]\n",
    "\n",
    "    for table in tables:\n",
    "        try:\n",
    "            conn.execute(table[1])\n",
    "            print(f\"Table '{table[0]}' created successfully.\")\n",
    "        except Error as e:\n",
    "            print(f\"Error creating table '{table[0]}': {e}\")"
   ]
  },
  {
   "cell_type": "code",
   "execution_count": null,
   "metadata": {},
   "outputs": [],
   "source": [
    "db_conn = connect_db(\"santas_workshop.db\")\n",
    "create_tables(db_conn)\n",
    "db_conn.close()\n",
    "print(\"Database closed\")"
   ]
  },
  {
   "cell_type": "markdown",
   "metadata": {},
   "source": [
    "# Task 3"
   ]
  },
  {
   "cell_type": "code",
   "execution_count": null,
   "metadata": {},
   "outputs": [],
   "source": [
    "def import_toys(conn, csvfilename):\n",
    "    \"\"\"\n",
    "    Import toy data from a CSV file into the 'toys' table.\n",
    "\n",
    "    Args:\n",
    "        conn (Connection): The database connection object.\n",
    "        csvfilename (str): The path to the CSV file.\n",
    "    \"\"\"\n",
    "    sql = \"INSERT INTO toys VALUES (?,?,?)\"\n",
    "    with open(csvfilename, \"r\") as csvfile:\n",
    "        csvreader = csv.reader(csvfile)\n",
    "        header = next(csvreader)  # Skip the header row\n",
    "        count = 0\n",
    "        for toy in csvreader:\n",
    "            try:\n",
    "                conn.execute(sql, tuple(toy))\n",
    "                conn.commit()\n",
    "                count += 1\n",
    "            except Error as e:\n",
    "                print(f\"Error inserting toy: {e}\")\n",
    "    print(f\"{count} toys imported.\")"
   ]
  },
  {
   "cell_type": "code",
   "execution_count": null,
   "metadata": {},
   "outputs": [],
   "source": [
    "db_conn = connect_db(\"santas_workshop.db\")\n",
    "import_toys(db_conn, \"new_toys.csv\")\n",
    "db_conn.close()\n",
    "print(\"Database closed\")"
   ]
  },
  {
   "cell_type": "markdown",
   "metadata": {},
   "source": [
    "# Task 4"
   ]
  },
  {
   "cell_type": "code",
   "execution_count": null,
   "metadata": {},
   "outputs": [],
   "source": [
    "def import_recipients(conn, csvfilename):\n",
    "    \"\"\"\n",
    "    Import recipient data from a CSV file into the 'recipients' table.\n",
    "\n",
    "    Args:\n",
    "        conn (Connection): The database connection object.\n",
    "        csvfilename (str): The path to the CSV file.\n",
    "    \"\"\"\n",
    "    sql = \"INSERT INTO recipients VALUES (?,?,?)\"\n",
    "    with open(csvfilename, \"r\") as csvfile:\n",
    "        csvreader = csv.reader(csvfile)\n",
    "        header = next(csvreader)  # Skip the header row\n",
    "        count = 0\n",
    "        for person in csvreader:\n",
    "            try:\n",
    "                conn.execute(sql, tuple(person))\n",
    "                conn.commit()\n",
    "                count += 1\n",
    "            except Error as e:\n",
    "                print(f\"Error inserting recipient: {e}\")\n",
    "    print(f\"{count} recipients imported.\")"
   ]
  },
  {
   "cell_type": "code",
   "execution_count": null,
   "metadata": {},
   "outputs": [],
   "source": [
    "db_conn = connect_db(\"santas_workshop.db\")\n",
    "import_recipients(db_conn, \"new_recipients.csv\")\n",
    "db_conn.close()\n",
    "print(\"Database closed\")"
   ]
  },
  {
   "cell_type": "markdown",
   "metadata": {},
   "source": [
    "# Task 5"
   ]
  },
  {
   "cell_type": "code",
   "execution_count": null,
   "metadata": {},
   "outputs": [],
   "source": [
    "def filter_contaminants(conn):\n",
    "    \"\"\"\n",
    "    Retrieve toys with contaminant types (e.g., 'Gun', 'Bomb', 'Organ').\n",
    "\n",
    "    Args:\n",
    "        conn (Connection): The database connection object.\n",
    "\n",
    "    Returns:\n",
    "        list: A list of contaminated toys.\n",
    "    \"\"\"\n",
    "    contaminant_types = [\"Gun\", \"Bomb\", \"Organ\"]\n",
    "    contaminants_list = []\n",
    "    try:\n",
    "        for toy_type in contaminant_types:\n",
    "            sql = f\"SELECT toy_id, toy_name FROM toys WHERE toy_type = '{toy_type}'\"\n",
    "            cur = conn.execute(sql)\n",
    "            rows = cur.fetchall()\n",
    "            contaminants_list.extend(rows)\n",
    "        return contaminants_list\n",
    "    except Error as e:\n",
    "        print(f\"Error filtering contaminants: {e}\")\n",
    "        return []"
   ]
  },
  {
   "cell_type": "code",
   "execution_count": null,
   "metadata": {},
   "outputs": [],
   "source": [
    "db_conn = connect_db(\"santas_workshop.db\")\n",
    "print(filter_contaminants(db_conn))\n",
    "db_conn.close()\n",
    "print(\"Database closed\")"
   ]
  },
  {
   "cell_type": "markdown",
   "metadata": {},
   "source": [
    "# Task 6"
   ]
  },
  {
   "cell_type": "code",
   "execution_count": null,
   "metadata": {},
   "outputs": [],
   "source": [
    "def filter_nonsense(conn):\n",
    "    \"\"\"\n",
    "    Retrieve recipients requesting toys flagged as contaminants.\n",
    "\n",
    "    Args:\n",
    "        conn (Connection): The database connection object.\n",
    "\n",
    "    Returns:\n",
    "        list: A list of recipient names.\n",
    "    \"\"\"\n",
    "    toy_ids = [\n",
    "        \"34148576\",\n",
    "        \"72953028\",\n",
    "        \"26080049\",\n",
    "        \"27557990\",\n",
    "        \"15562806\",\n",
    "        \"97319069\",\n",
    "        \"38216491\",\n",
    "        \"37728318\",\n",
    "    ]\n",
    "    toy_ids_str = \", \".join([f'\"{id}\"' for id in toy_ids])\n",
    "    sql = f\"SELECT recipient_name FROM recipients WHERE recipient_toy_id IN ({toy_ids_str})\"\n",
    "    try:\n",
    "        cur = conn.execute(sql)\n",
    "        return cur.fetchall()\n",
    "    except Error as e:\n",
    "        print(f\"Error filtering recipients: {e}\")\n",
    "        return []"
   ]
  },
  {
   "cell_type": "code",
   "execution_count": null,
   "metadata": {},
   "outputs": [],
   "source": [
    "db_conn = connect_db(\"santas_workshop.db\")\n",
    "print(filter_nonsense(db_conn))\n",
    "db_conn.close()\n",
    "print(\"Database closed\")"
   ]
  },
  {
   "cell_type": "markdown",
   "metadata": {},
   "source": [
    "# Tasks 7-9"
   ]
  },
  {
   "cell_type": "code",
   "execution_count": null,
   "metadata": {},
   "outputs": [],
   "source": [
    "# Task 7\n",
    "def delete_person(conn):\n",
    "    sql = \"DELETE FROM recipients WHERE recipient_name IN ('Luocha', 'Klee', 'Aventurine', 'MrReca', 'Joaqium', 'Blade', 'Kafka', 'Mobius')\"\n",
    "    try:\n",
    "        conn.execute(sql)\n",
    "        conn.commit()\n",
    "        print(\"Specific recipients deleted successfully.\")\n",
    "    except Error as e:\n",
    "        print(f\"Error deleting recipients: {e}\")\n",
    "\n",
    "\n",
    "# Task 8\n",
    "def delete_threat(conn):\n",
    "    toy_ids = [\n",
    "        \"34148576\",\n",
    "        \"72953028\",\n",
    "        \"26080049\",\n",
    "        \"27557990\",\n",
    "        \"15562806\",\n",
    "        \"97319069\",\n",
    "        \"38216491\",\n",
    "        \"37728318\",\n",
    "    ]\n",
    "    toy_ids_str = \", \".join([f'\"{id}\"' for id in toy_ids])\n",
    "    sql = f\"DELETE FROM toys WHERE toy_id IN ({toy_ids_str})\"\n",
    "    try:\n",
    "        conn.execute(sql)\n",
    "        conn.commit()\n",
    "        print(\"Dangerous toys deleted successfully.\")\n",
    "    except Error as e:\n",
    "        print(f\"Error deleting toys: {e}\")\n",
    "\n",
    "\n",
    "# Task 9\n",
    "def join_tables(conn):\n",
    "    sql = \"\"\"SELECT toys.toy_type, toys.toy_name, recipients.recipient_id, recipients.recipient_name\n",
    "             FROM toys\n",
    "             JOIN recipients ON toys.toy_id = recipients.recipient_toy_id;\"\"\"\n",
    "    try:\n",
    "        cur = conn.execute(sql)\n",
    "        return cur.fetchall()\n",
    "    except Error as e:\n",
    "        print(f\"Error joining tables: {e}\")\n",
    "        return []"
   ]
  },
  {
   "cell_type": "code",
   "execution_count": null,
   "metadata": {},
   "outputs": [],
   "source": [
    "db_conn = connect_db(\"santas_workshop.db\")\n",
    "delete_person(db_conn)\n",
    "delete_threat(db_conn)\n",
    "print(join_tables(db_conn))\n",
    "db_conn.close()\n",
    "print(\"Database closed\")"
   ]
  }
 ],
 "metadata": {
  "kernelspec": {
   "display_name": "Python 3",
   "language": "python",
   "name": "python3"
  },
  "language_info": {
   "codemirror_mode": {
    "name": "ipython",
    "version": 3
   },
   "file_extension": ".py",
   "mimetype": "text/x-python",
   "name": "python",
   "nbconvert_exporter": "python",
   "pygments_lexer": "ipython3",
   "version": "3.6.4"
  }
 },
 "nbformat": 4,
 "nbformat_minor": 2
}
