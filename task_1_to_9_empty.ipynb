{
 "cells": [
  {
   "cell_type": "code",
   "execution_count": 2,
   "metadata": {},
   "outputs": [],
   "source": [
    "import sqlite3\n",
    "from sqlite3 import Error\n",
    "import csv"
   ]
  },
  {
   "cell_type": "code",
   "execution_count": null,
   "metadata": {},
   "outputs": [],
   "source": [
    "#task 1"
   ]
  },
  {
   "cell_type": "code",
   "execution_count": null,
   "metadata": {},
   "outputs": [
    {
     "name": "stdout",
     "output_type": "stream",
     "text": [
      "Database connected.\n",
      "database closed\n"
     ]
    }
   ],
   "source": [
    "#task 1 driver code\n",
    "db_conn = connect_db(\"santas_workshop.db\")\n",
    "db_conn.close()\n",
    "print(\"Database closed\")"
   ]
  },
  {
   "cell_type": "code",
   "execution_count": null,
   "metadata": {},
   "outputs": [],
   "source": [
    "#task 2\n"
   ]
  },
  {
   "cell_type": "code",
   "execution_count": null,
   "metadata": {},
   "outputs": [],
   "source": [
    "#task 2 driver code\n",
    "db_conn = connect_db(\"santas_workshop.db\")\n",
    "create_tables(db_conn)\n",
    "db_conn.close()\n",
    "print(\"Database closed\")"
   ]
  },
  {
   "cell_type": "code",
   "execution_count": null,
   "metadata": {},
   "outputs": [],
   "source": [
    "#task 3\n",
    "\n",
    "        "
   ]
  },
  {
   "cell_type": "code",
   "execution_count": null,
   "metadata": {},
   "outputs": [],
   "source": [
    "#task 3 driver code\n",
    "db_conn = connect_db(\"santas_workshop.db\")\n",
    "import_toys(db_conn, \"new_toys.csv\")\n",
    "db_conn.close()\n",
    "print(\"Database closed\")"
   ]
  },
  {
   "cell_type": "code",
   "execution_count": null,
   "metadata": {},
   "outputs": [],
   "source": [
    "#task 4\n",
    "\n",
    "        "
   ]
  },
  {
   "cell_type": "code",
   "execution_count": 35,
   "metadata": {},
   "outputs": [
    {
     "name": "stdout",
     "output_type": "stream",
     "text": [
      "Database connected.\n",
      "24 recipients imported.\n",
      "Database closed\n"
     ]
    }
   ],
   "source": [
    "#task 4 driver code\n",
    "db_conn = connect_db(\"santas_workshop.db\")\n",
    "import_toys(db_conn, \"new_recipients.csv\")\n",
    "db_conn.close()\n",
    "print(\"Database closed\")"
   ]
  },
  {
   "cell_type": "code",
   "execution_count": null,
   "metadata": {},
   "outputs": [],
   "source": [
    "#task 5\n",
    "\n"
   ]
  },
  {
   "cell_type": "code",
   "execution_count": null,
   "metadata": {},
   "outputs": [
    {
     "name": "stdout",
     "output_type": "stream",
     "text": [
      "Database connected.\n",
      "[[('34148576', 'AK-47'), ('72953028', 'Pistol')], [('26080049', 'Atomic Bomb'), ('27557990', 'Nuclear Bomb')], [('15562806', 'The Heart'), ('97319069', 'Kidneys'), ('38216491', 'Liver'), ('37728318', 'Lungs')]]\n"
     ]
    }
   ],
   "source": [
    "#task 5 driver code\n",
    "db_conn = connect_db(\"santas_workshop.db\")\n",
    "print(filter_contaminants(db_conn))\n",
    "db_conn.close()\n",
    "print(\"Database closed\")"
   ]
  },
  {
   "cell_type": "code",
   "execution_count": null,
   "metadata": {},
   "outputs": [],
   "source": [
    "#task 6\n"
   ]
  },
  {
   "cell_type": "code",
   "execution_count": null,
   "metadata": {},
   "outputs": [
    {
     "name": "stdout",
     "output_type": "stream",
     "text": [
      "Database connected.\n",
      "[('Luocha',), ('Klee',), ('Aventurine',), ('MrReca',), ('Joaqium',), ('Blade',), ('Kafka',), ('Mobius',)]\n"
     ]
    }
   ],
   "source": [
    "#task 6 driver code\n",
    "db_conn = connect_db(\"santas_workshop.db\")\n",
    "print(filter_nonsense(db_conn))\n",
    "db_conn.close()\n",
    "print(\"Database closed\")"
   ]
  },
  {
   "cell_type": "code",
   "execution_count": null,
   "metadata": {},
   "outputs": [],
   "source": [
    "#task 7\n",
    "\n"
   ]
  },
  {
   "cell_type": "code",
   "execution_count": null,
   "metadata": {},
   "outputs": [],
   "source": [
    "#task 7 driver code\n",
    "db_conn = connect_db(\"santas_workshop.db\")\n",
    "print(delete_person(db_conn))\n",
    "db_conn.close()\n",
    "print(\"Database closed\")"
   ]
  },
  {
   "cell_type": "code",
   "execution_count": null,
   "metadata": {},
   "outputs": [],
   "source": [
    "#task 8\n"
   ]
  },
  {
   "cell_type": "code",
   "execution_count": null,
   "metadata": {},
   "outputs": [],
   "source": [
    "#task 8 driver code\n",
    "db_conn = connect_db(\"santas_workshop.db\")\n",
    "print(delete_threat(db_conn))\n",
    "db_conn.close()\n",
    "print(\"Database closed\")"
   ]
  },
  {
   "cell_type": "code",
   "execution_count": null,
   "metadata": {},
   "outputs": [],
   "source": [
    "#task 9\n"
   ]
  },
  {
   "cell_type": "code",
   "execution_count": null,
   "metadata": {},
   "outputs": [],
   "source": [
    "#task 9 driver code\n",
    "db_conn = connect_db(\"santas_workshop.db\")\n",
    "print(join_tables(db_conn))\n",
    "db_conn.close()\n",
    "print(\"Database closed\")"
   ]
  }
 ],
 "metadata": {
  "kernelspec": {
   "display_name": "Python 3",
   "language": "python",
   "name": "python3"
  },
  "language_info": {
   "codemirror_mode": {
    "name": "ipython",
    "version": 3
   },
   "file_extension": ".py",
   "mimetype": "text/x-python",
   "name": "python",
   "nbconvert_exporter": "python",
   "pygments_lexer": "ipython3",
   "version": "3.6.4"
  }
 },
 "nbformat": 4,
 "nbformat_minor": 2
}
