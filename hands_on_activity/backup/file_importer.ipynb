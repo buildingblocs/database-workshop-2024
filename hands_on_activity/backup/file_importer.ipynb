{
 "cells": [
  {
   "cell_type": "code",
   "execution_count": 21,
   "metadata": {},
   "outputs": [],
   "source": [
    "import sqlite3\n",
    "from sqlite3 import Error\n",
    "import csv"
   ]
  },
  {
   "cell_type": "code",
   "execution_count": 22,
   "metadata": {},
   "outputs": [],
   "source": [
    "def connect_db(db_file):\n",
    "    try:\n",
    "        conn = sqlite3.connect(db_file)\n",
    "        print(\"Database connected.\")\n",
    "        return conn\n",
    "    except Error as e:\n",
    "        print(e)"
   ]
  },
  {
   "cell_type": "code",
   "execution_count": 23,
   "metadata": {},
   "outputs": [
    {
     "name": "stdout",
     "output_type": "stream",
     "text": [
      "Database connected.\n",
      "Database closed\n"
     ]
    }
   ],
   "source": [
    "# driver\n",
    "db_conn = connect_db(\"hands_on_activity.db\")\n",
    "db_conn.close()\n",
    "print(\"Database closed\")"
   ]
  },
  {
   "cell_type": "code",
   "execution_count": 24,
   "metadata": {},
   "outputs": [],
   "source": [
    "def import_orgs(conn, csvfilename):\n",
    "    sql = \"INSERT INTO bbcs VALUES (?,?,?,?,?)\"\n",
    "\n",
    "    with open(csvfilename, \"r\") as csvfile:\n",
    "        csvreader = csv.reader(csvfile)\n",
    "        header = next(csvreader)\n",
    "        count = 0\n",
    "        for person in csvreader:\n",
    "            try:\n",
    "                conn.execute(sql, tuple(person))\n",
    "                print(f\"Imported {person[0]}\")\n",
    "                conn.commit()\n",
    "                count += 1\n",
    "            except Error as e:\n",
    "                print(e)\n",
    "    print(f\"{count} organisers imported.\")"
   ]
  },
  {
   "cell_type": "code",
   "execution_count": 25,
   "metadata": {},
   "outputs": [
    {
     "name": "stdout",
     "output_type": "stream",
     "text": [
      "Database connected.\n",
      "Imported 1\n",
      "UNIQUE constraint failed: bbcs.index\n",
      "UNIQUE constraint failed: bbcs.index\n",
      "UNIQUE constraint failed: bbcs.index\n",
      "UNIQUE constraint failed: bbcs.index\n",
      "UNIQUE constraint failed: bbcs.index\n",
      "UNIQUE constraint failed: bbcs.index\n",
      "UNIQUE constraint failed: bbcs.index\n",
      "UNIQUE constraint failed: bbcs.index\n",
      "UNIQUE constraint failed: bbcs.index\n",
      "UNIQUE constraint failed: bbcs.index\n",
      "UNIQUE constraint failed: bbcs.index\n",
      "UNIQUE constraint failed: bbcs.index\n",
      "UNIQUE constraint failed: bbcs.index\n",
      "UNIQUE constraint failed: bbcs.index\n",
      "UNIQUE constraint failed: bbcs.index\n",
      "UNIQUE constraint failed: bbcs.index\n",
      "UNIQUE constraint failed: bbcs.index\n",
      "UNIQUE constraint failed: bbcs.index\n",
      "UNIQUE constraint failed: bbcs.index\n",
      "UNIQUE constraint failed: bbcs.index\n",
      "UNIQUE constraint failed: bbcs.index\n",
      "UNIQUE constraint failed: bbcs.index\n",
      "UNIQUE constraint failed: bbcs.index\n",
      "UNIQUE constraint failed: bbcs.index\n",
      "UNIQUE constraint failed: bbcs.index\n",
      "UNIQUE constraint failed: bbcs.index\n",
      "UNIQUE constraint failed: bbcs.index\n",
      "UNIQUE constraint failed: bbcs.index\n",
      "UNIQUE constraint failed: bbcs.index\n",
      "1 organisers imported.\n",
      "Database closed\n"
     ]
    }
   ],
   "source": [
    "# driver\n",
    "db_conn = connect_db(\"hands_on_activity.db\")\n",
    "import_orgs(db_conn, \"organisers.csv\")\n",
    "db_conn.close()\n",
    "print(\"Database closed\")"
   ]
  }
 ],
 "metadata": {
  "kernelspec": {
   "display_name": ".venv",
   "language": "python",
   "name": "python3"
  },
  "language_info": {
   "codemirror_mode": {
    "name": "ipython",
    "version": 3
   },
   "file_extension": ".py",
   "mimetype": "text/x-python",
   "name": "python",
   "nbconvert_exporter": "python",
   "pygments_lexer": "ipython3",
   "version": "3.10.9"
  }
 },
 "nbformat": 4,
 "nbformat_minor": 2
}
